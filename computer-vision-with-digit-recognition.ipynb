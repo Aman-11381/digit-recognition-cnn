{
 "cells": [
  {
   "cell_type": "code",
   "execution_count": 1,
   "id": "2c3429ac",
   "metadata": {
    "_cell_guid": "b1076dfc-b9ad-4769-8c92-a6c4dae69d19",
    "_uuid": "8f2839f25d086af736a60e9eeb907d3b93b6e0e5",
    "execution": {
     "iopub.execute_input": "2022-03-01T21:19:00.568792Z",
     "iopub.status.busy": "2022-03-01T21:19:00.567166Z",
     "iopub.status.idle": "2022-03-01T21:19:00.579878Z",
     "shell.execute_reply": "2022-03-01T21:19:00.580370Z",
     "shell.execute_reply.started": "2022-03-01T21:17:31.189894Z"
    },
    "papermill": {
     "duration": 0.053094,
     "end_time": "2022-03-01T21:19:00.580647",
     "exception": false,
     "start_time": "2022-03-01T21:19:00.527553",
     "status": "completed"
    },
    "tags": []
   },
   "outputs": [
    {
     "name": "stdout",
     "output_type": "stream",
     "text": [
      "/kaggle/input/digit-recognizer/sample_submission.csv\n",
      "/kaggle/input/digit-recognizer/train.csv\n",
      "/kaggle/input/digit-recognizer/test.csv\n"
     ]
    }
   ],
   "source": [
    "# Input data files are available in the read-only \"../input/\" directory\n",
    "# For example, running this (by clicking run or pressing Shift+Enter) will list all files under the input directory\n",
    "\n",
    "import os\n",
    "for dirname, _, filenames in os.walk('/kaggle/input'):\n",
    "    for filename in filenames:\n",
    "        print(os.path.join(dirname, filename))\n",
    "\n",
    "# You can write up to 20GB to the current directory (/kaggle/working/) that gets preserved as output when you create a version using \"Save & Run All\" \n",
    "# You can also write temporary files to /kaggle/temp/, but they won't be saved outside of the current session"
   ]
  },
  {
   "cell_type": "markdown",
   "id": "cdd089e2",
   "metadata": {
    "papermill": {
     "duration": 0.018232,
     "end_time": "2022-03-01T21:19:00.629894",
     "exception": false,
     "start_time": "2022-03-01T21:19:00.611662",
     "status": "completed"
    },
    "tags": []
   },
   "source": [
    "## Importing the Libraries"
   ]
  },
  {
   "cell_type": "code",
   "execution_count": 2,
   "id": "14712baf",
   "metadata": {
    "execution": {
     "iopub.execute_input": "2022-03-01T21:19:00.667619Z",
     "iopub.status.busy": "2022-03-01T21:19:00.666829Z",
     "iopub.status.idle": "2022-03-01T21:19:06.583983Z",
     "shell.execute_reply": "2022-03-01T21:19:06.583292Z",
     "shell.execute_reply.started": "2022-03-01T21:17:31.212060Z"
    },
    "papermill": {
     "duration": 5.936512,
     "end_time": "2022-03-01T21:19:06.584136",
     "exception": false,
     "start_time": "2022-03-01T21:19:00.647624",
     "status": "completed"
    },
    "tags": []
   },
   "outputs": [],
   "source": [
    "import pandas as pd\n",
    "import numpy as np\n",
    "\n",
    "from sklearn.model_selection import train_test_split\n",
    "\n",
    "from tensorflow import keras\n",
    "from tensorflow.keras import layers"
   ]
  },
  {
   "cell_type": "code",
   "execution_count": 3,
   "id": "0ef4dd37",
   "metadata": {
    "execution": {
     "iopub.execute_input": "2022-03-01T21:19:06.625495Z",
     "iopub.status.busy": "2022-03-01T21:19:06.624797Z",
     "iopub.status.idle": "2022-03-01T21:19:11.439953Z",
     "shell.execute_reply": "2022-03-01T21:19:11.438979Z",
     "shell.execute_reply.started": "2022-03-01T21:17:31.220429Z"
    },
    "papermill": {
     "duration": 4.836214,
     "end_time": "2022-03-01T21:19:11.440139",
     "exception": false,
     "start_time": "2022-03-01T21:19:06.603925",
     "status": "completed"
    },
    "tags": []
   },
   "outputs": [],
   "source": [
    "train_df = pd.read_csv('/kaggle/input/digit-recognizer/train.csv')\n",
    "test_df = pd.read_csv('/kaggle/input/digit-recognizer/test.csv')"
   ]
  },
  {
   "cell_type": "code",
   "execution_count": 4,
   "id": "ea40b571",
   "metadata": {
    "execution": {
     "iopub.execute_input": "2022-03-01T21:19:11.484210Z",
     "iopub.status.busy": "2022-03-01T21:19:11.483642Z",
     "iopub.status.idle": "2022-03-01T21:19:11.500463Z",
     "shell.execute_reply": "2022-03-01T21:19:11.500892Z",
     "shell.execute_reply.started": "2022-03-01T21:17:36.211023Z"
    },
    "papermill": {
     "duration": 0.04282,
     "end_time": "2022-03-01T21:19:11.501012",
     "exception": false,
     "start_time": "2022-03-01T21:19:11.458192",
     "status": "completed"
    },
    "tags": []
   },
   "outputs": [
    {
     "data": {
      "text/html": [
       "<div>\n",
       "<style scoped>\n",
       "    .dataframe tbody tr th:only-of-type {\n",
       "        vertical-align: middle;\n",
       "    }\n",
       "\n",
       "    .dataframe tbody tr th {\n",
       "        vertical-align: top;\n",
       "    }\n",
       "\n",
       "    .dataframe thead th {\n",
       "        text-align: right;\n",
       "    }\n",
       "</style>\n",
       "<table border=\"1\" class=\"dataframe\">\n",
       "  <thead>\n",
       "    <tr style=\"text-align: right;\">\n",
       "      <th></th>\n",
       "      <th>label</th>\n",
       "      <th>pixel0</th>\n",
       "      <th>pixel1</th>\n",
       "      <th>pixel2</th>\n",
       "      <th>pixel3</th>\n",
       "      <th>pixel4</th>\n",
       "      <th>pixel5</th>\n",
       "      <th>pixel6</th>\n",
       "      <th>pixel7</th>\n",
       "      <th>pixel8</th>\n",
       "      <th>...</th>\n",
       "      <th>pixel774</th>\n",
       "      <th>pixel775</th>\n",
       "      <th>pixel776</th>\n",
       "      <th>pixel777</th>\n",
       "      <th>pixel778</th>\n",
       "      <th>pixel779</th>\n",
       "      <th>pixel780</th>\n",
       "      <th>pixel781</th>\n",
       "      <th>pixel782</th>\n",
       "      <th>pixel783</th>\n",
       "    </tr>\n",
       "  </thead>\n",
       "  <tbody>\n",
       "    <tr>\n",
       "      <th>0</th>\n",
       "      <td>1</td>\n",
       "      <td>0</td>\n",
       "      <td>0</td>\n",
       "      <td>0</td>\n",
       "      <td>0</td>\n",
       "      <td>0</td>\n",
       "      <td>0</td>\n",
       "      <td>0</td>\n",
       "      <td>0</td>\n",
       "      <td>0</td>\n",
       "      <td>...</td>\n",
       "      <td>0</td>\n",
       "      <td>0</td>\n",
       "      <td>0</td>\n",
       "      <td>0</td>\n",
       "      <td>0</td>\n",
       "      <td>0</td>\n",
       "      <td>0</td>\n",
       "      <td>0</td>\n",
       "      <td>0</td>\n",
       "      <td>0</td>\n",
       "    </tr>\n",
       "    <tr>\n",
       "      <th>1</th>\n",
       "      <td>0</td>\n",
       "      <td>0</td>\n",
       "      <td>0</td>\n",
       "      <td>0</td>\n",
       "      <td>0</td>\n",
       "      <td>0</td>\n",
       "      <td>0</td>\n",
       "      <td>0</td>\n",
       "      <td>0</td>\n",
       "      <td>0</td>\n",
       "      <td>...</td>\n",
       "      <td>0</td>\n",
       "      <td>0</td>\n",
       "      <td>0</td>\n",
       "      <td>0</td>\n",
       "      <td>0</td>\n",
       "      <td>0</td>\n",
       "      <td>0</td>\n",
       "      <td>0</td>\n",
       "      <td>0</td>\n",
       "      <td>0</td>\n",
       "    </tr>\n",
       "    <tr>\n",
       "      <th>2</th>\n",
       "      <td>1</td>\n",
       "      <td>0</td>\n",
       "      <td>0</td>\n",
       "      <td>0</td>\n",
       "      <td>0</td>\n",
       "      <td>0</td>\n",
       "      <td>0</td>\n",
       "      <td>0</td>\n",
       "      <td>0</td>\n",
       "      <td>0</td>\n",
       "      <td>...</td>\n",
       "      <td>0</td>\n",
       "      <td>0</td>\n",
       "      <td>0</td>\n",
       "      <td>0</td>\n",
       "      <td>0</td>\n",
       "      <td>0</td>\n",
       "      <td>0</td>\n",
       "      <td>0</td>\n",
       "      <td>0</td>\n",
       "      <td>0</td>\n",
       "    </tr>\n",
       "    <tr>\n",
       "      <th>3</th>\n",
       "      <td>4</td>\n",
       "      <td>0</td>\n",
       "      <td>0</td>\n",
       "      <td>0</td>\n",
       "      <td>0</td>\n",
       "      <td>0</td>\n",
       "      <td>0</td>\n",
       "      <td>0</td>\n",
       "      <td>0</td>\n",
       "      <td>0</td>\n",
       "      <td>...</td>\n",
       "      <td>0</td>\n",
       "      <td>0</td>\n",
       "      <td>0</td>\n",
       "      <td>0</td>\n",
       "      <td>0</td>\n",
       "      <td>0</td>\n",
       "      <td>0</td>\n",
       "      <td>0</td>\n",
       "      <td>0</td>\n",
       "      <td>0</td>\n",
       "    </tr>\n",
       "    <tr>\n",
       "      <th>4</th>\n",
       "      <td>0</td>\n",
       "      <td>0</td>\n",
       "      <td>0</td>\n",
       "      <td>0</td>\n",
       "      <td>0</td>\n",
       "      <td>0</td>\n",
       "      <td>0</td>\n",
       "      <td>0</td>\n",
       "      <td>0</td>\n",
       "      <td>0</td>\n",
       "      <td>...</td>\n",
       "      <td>0</td>\n",
       "      <td>0</td>\n",
       "      <td>0</td>\n",
       "      <td>0</td>\n",
       "      <td>0</td>\n",
       "      <td>0</td>\n",
       "      <td>0</td>\n",
       "      <td>0</td>\n",
       "      <td>0</td>\n",
       "      <td>0</td>\n",
       "    </tr>\n",
       "  </tbody>\n",
       "</table>\n",
       "<p>5 rows × 785 columns</p>\n",
       "</div>"
      ],
      "text/plain": [
       "   label  pixel0  pixel1  pixel2  pixel3  pixel4  pixel5  pixel6  pixel7  \\\n",
       "0      1       0       0       0       0       0       0       0       0   \n",
       "1      0       0       0       0       0       0       0       0       0   \n",
       "2      1       0       0       0       0       0       0       0       0   \n",
       "3      4       0       0       0       0       0       0       0       0   \n",
       "4      0       0       0       0       0       0       0       0       0   \n",
       "\n",
       "   pixel8  ...  pixel774  pixel775  pixel776  pixel777  pixel778  pixel779  \\\n",
       "0       0  ...         0         0         0         0         0         0   \n",
       "1       0  ...         0         0         0         0         0         0   \n",
       "2       0  ...         0         0         0         0         0         0   \n",
       "3       0  ...         0         0         0         0         0         0   \n",
       "4       0  ...         0         0         0         0         0         0   \n",
       "\n",
       "   pixel780  pixel781  pixel782  pixel783  \n",
       "0         0         0         0         0  \n",
       "1         0         0         0         0  \n",
       "2         0         0         0         0  \n",
       "3         0         0         0         0  \n",
       "4         0         0         0         0  \n",
       "\n",
       "[5 rows x 785 columns]"
      ]
     },
     "execution_count": 4,
     "metadata": {},
     "output_type": "execute_result"
    }
   ],
   "source": [
    "train_df.head()"
   ]
  },
  {
   "cell_type": "code",
   "execution_count": 5,
   "id": "591788a1",
   "metadata": {
    "execution": {
     "iopub.execute_input": "2022-03-01T21:19:11.541239Z",
     "iopub.status.busy": "2022-03-01T21:19:11.540156Z",
     "iopub.status.idle": "2022-03-01T21:19:11.543189Z",
     "shell.execute_reply": "2022-03-01T21:19:11.543597Z",
     "shell.execute_reply.started": "2022-03-01T21:17:36.238565Z"
    },
    "papermill": {
     "duration": 0.02517,
     "end_time": "2022-03-01T21:19:11.543710",
     "exception": false,
     "start_time": "2022-03-01T21:19:11.518540",
     "status": "completed"
    },
    "tags": []
   },
   "outputs": [
    {
     "data": {
      "text/plain": [
       "(42000, 785)"
      ]
     },
     "execution_count": 5,
     "metadata": {},
     "output_type": "execute_result"
    }
   ],
   "source": [
    "train_df.shape"
   ]
  },
  {
   "cell_type": "markdown",
   "id": "113354ba",
   "metadata": {
    "execution": {
     "iopub.execute_input": "2022-03-01T21:04:57.637895Z",
     "iopub.status.busy": "2022-03-01T21:04:57.637512Z",
     "iopub.status.idle": "2022-03-01T21:04:57.643394Z",
     "shell.execute_reply": "2022-03-01T21:04:57.642317Z",
     "shell.execute_reply.started": "2022-03-01T21:04:57.637843Z"
    },
    "papermill": {
     "duration": 0.017406,
     "end_time": "2022-03-01T21:19:11.580592",
     "exception": false,
     "start_time": "2022-03-01T21:19:11.563186",
     "status": "completed"
    },
    "tags": []
   },
   "source": [
    "## Preprocessing the Data"
   ]
  },
  {
   "cell_type": "code",
   "execution_count": 6,
   "id": "552d0115",
   "metadata": {
    "execution": {
     "iopub.execute_input": "2022-03-01T21:19:11.620444Z",
     "iopub.status.busy": "2022-03-01T21:19:11.619786Z",
     "iopub.status.idle": "2022-03-01T21:19:11.622983Z",
     "shell.execute_reply": "2022-03-01T21:19:11.622603Z",
     "shell.execute_reply.started": "2022-03-01T21:17:36.248988Z"
    },
    "papermill": {
     "duration": 0.024766,
     "end_time": "2022-03-01T21:19:11.623101",
     "exception": false,
     "start_time": "2022-03-01T21:19:11.598335",
     "status": "completed"
    },
    "tags": []
   },
   "outputs": [],
   "source": [
    "x_train = train_df.iloc[:,1:]\n",
    "y_train = train_df.iloc[:,0]"
   ]
  },
  {
   "cell_type": "code",
   "execution_count": 7,
   "id": "6ed0ccd3",
   "metadata": {
    "execution": {
     "iopub.execute_input": "2022-03-01T21:19:11.662767Z",
     "iopub.status.busy": "2022-03-01T21:19:11.661971Z",
     "iopub.status.idle": "2022-03-01T21:19:11.665209Z",
     "shell.execute_reply": "2022-03-01T21:19:11.664727Z",
     "shell.execute_reply.started": "2022-03-01T21:17:36.261312Z"
    },
    "papermill": {
     "duration": 0.024318,
     "end_time": "2022-03-01T21:19:11.665313",
     "exception": false,
     "start_time": "2022-03-01T21:19:11.640995",
     "status": "completed"
    },
    "tags": []
   },
   "outputs": [],
   "source": [
    "x_train = x_train.values.reshape(-1,28,28,1)\n",
    "test_df = test_df.values.reshape(-1,28,28,1)"
   ]
  },
  {
   "cell_type": "code",
   "execution_count": 8,
   "id": "73c4ffcf",
   "metadata": {
    "execution": {
     "iopub.execute_input": "2022-03-01T21:19:11.705195Z",
     "iopub.status.busy": "2022-03-01T21:19:11.704305Z",
     "iopub.status.idle": "2022-03-01T21:19:11.801354Z",
     "shell.execute_reply": "2022-03-01T21:19:11.801801Z",
     "shell.execute_reply.started": "2022-03-01T21:17:36.273421Z"
    },
    "papermill": {
     "duration": 0.11874,
     "end_time": "2022-03-01T21:19:11.801958",
     "exception": false,
     "start_time": "2022-03-01T21:19:11.683218",
     "status": "completed"
    },
    "tags": []
   },
   "outputs": [],
   "source": [
    "# changing the datatype to float so that we have float values after normalization\n",
    "x_train = x_train.astype('float32')\n",
    "test_df = test_df.astype('float32')"
   ]
  },
  {
   "cell_type": "code",
   "execution_count": 9,
   "id": "341acee5",
   "metadata": {
    "execution": {
     "iopub.execute_input": "2022-03-01T21:19:11.843269Z",
     "iopub.status.busy": "2022-03-01T21:19:11.842188Z",
     "iopub.status.idle": "2022-03-01T21:19:11.912049Z",
     "shell.execute_reply": "2022-03-01T21:19:11.911599Z",
     "shell.execute_reply.started": "2022-03-01T21:17:36.423421Z"
    },
    "papermill": {
     "duration": 0.092009,
     "end_time": "2022-03-01T21:19:11.912209",
     "exception": false,
     "start_time": "2022-03-01T21:19:11.820200",
     "status": "completed"
    },
    "tags": []
   },
   "outputs": [],
   "source": [
    "# normalizing the data\n",
    "x_train = x_train/255\n",
    "test_df = test_df/255"
   ]
  },
  {
   "cell_type": "markdown",
   "id": "07c83879",
   "metadata": {
    "papermill": {
     "duration": 0.017606,
     "end_time": "2022-03-01T21:19:11.948443",
     "exception": false,
     "start_time": "2022-03-01T21:19:11.930837",
     "status": "completed"
    },
    "tags": []
   },
   "source": [
    "## Building the Model"
   ]
  },
  {
   "cell_type": "code",
   "execution_count": 10,
   "id": "91d849a1",
   "metadata": {
    "execution": {
     "iopub.execute_input": "2022-03-01T21:19:11.991420Z",
     "iopub.status.busy": "2022-03-01T21:19:11.990731Z",
     "iopub.status.idle": "2022-03-01T21:19:14.465381Z",
     "shell.execute_reply": "2022-03-01T21:19:14.466008Z",
     "shell.execute_reply.started": "2022-03-01T21:17:36.546898Z"
    },
    "papermill": {
     "duration": 2.500079,
     "end_time": "2022-03-01T21:19:14.466232",
     "exception": false,
     "start_time": "2022-03-01T21:19:11.966153",
     "status": "completed"
    },
    "tags": []
   },
   "outputs": [
    {
     "name": "stderr",
     "output_type": "stream",
     "text": [
      "2022-03-01 21:19:12.072497: I tensorflow/stream_executor/cuda/cuda_gpu_executor.cc:937] successful NUMA node read from SysFS had negative value (-1), but there must be at least one NUMA node, so returning NUMA node zero\n",
      "2022-03-01 21:19:12.174120: I tensorflow/stream_executor/cuda/cuda_gpu_executor.cc:937] successful NUMA node read from SysFS had negative value (-1), but there must be at least one NUMA node, so returning NUMA node zero\n",
      "2022-03-01 21:19:12.174838: I tensorflow/stream_executor/cuda/cuda_gpu_executor.cc:937] successful NUMA node read from SysFS had negative value (-1), but there must be at least one NUMA node, so returning NUMA node zero\n",
      "2022-03-01 21:19:12.175941: I tensorflow/core/platform/cpu_feature_guard.cc:142] This TensorFlow binary is optimized with oneAPI Deep Neural Network Library (oneDNN) to use the following CPU instructions in performance-critical operations:  AVX2 AVX512F FMA\n",
      "To enable them in other operations, rebuild TensorFlow with the appropriate compiler flags.\n",
      "2022-03-01 21:19:12.176925: I tensorflow/stream_executor/cuda/cuda_gpu_executor.cc:937] successful NUMA node read from SysFS had negative value (-1), but there must be at least one NUMA node, so returning NUMA node zero\n",
      "2022-03-01 21:19:12.177659: I tensorflow/stream_executor/cuda/cuda_gpu_executor.cc:937] successful NUMA node read from SysFS had negative value (-1), but there must be at least one NUMA node, so returning NUMA node zero\n",
      "2022-03-01 21:19:12.178427: I tensorflow/stream_executor/cuda/cuda_gpu_executor.cc:937] successful NUMA node read from SysFS had negative value (-1), but there must be at least one NUMA node, so returning NUMA node zero\n",
      "2022-03-01 21:19:14.079456: I tensorflow/stream_executor/cuda/cuda_gpu_executor.cc:937] successful NUMA node read from SysFS had negative value (-1), but there must be at least one NUMA node, so returning NUMA node zero\n",
      "2022-03-01 21:19:14.080284: I tensorflow/stream_executor/cuda/cuda_gpu_executor.cc:937] successful NUMA node read from SysFS had negative value (-1), but there must be at least one NUMA node, so returning NUMA node zero\n",
      "2022-03-01 21:19:14.080929: I tensorflow/stream_executor/cuda/cuda_gpu_executor.cc:937] successful NUMA node read from SysFS had negative value (-1), but there must be at least one NUMA node, so returning NUMA node zero\n",
      "2022-03-01 21:19:14.081525: I tensorflow/core/common_runtime/gpu/gpu_device.cc:1510] Created device /job:localhost/replica:0/task:0/device:GPU:0 with 15403 MB memory:  -> device: 0, name: Tesla P100-PCIE-16GB, pci bus id: 0000:00:04.0, compute capability: 6.0\n"
     ]
    }
   ],
   "source": [
    "model = keras.Sequential([\n",
    "    layers.Conv2D(filters=32,kernel_size=3,input_shape=[28,28,1],padding='same'),\n",
    "    layers.MaxPooling2D(pool_size=2),\n",
    "    layers.Conv2D(filters=64,kernel_size=3,padding='same'),\n",
    "    layers.MaxPooling2D(pool_size=2),\n",
    "    layers.Conv2D(filters=128,kernel_size=3,padding='same'),\n",
    "    layers.MaxPooling2D(pool_size=2),\n",
    "    layers.Flatten(),\n",
    "    layers.Dense(128,activation='relu'),\n",
    "    layers.Dropout(0.2),\n",
    "    layers.Dense(10,activation='softmax'),\n",
    "])"
   ]
  },
  {
   "cell_type": "markdown",
   "id": "bc497cf8",
   "metadata": {
    "papermill": {
     "duration": 0.01843,
     "end_time": "2022-03-01T21:19:14.505134",
     "exception": false,
     "start_time": "2022-03-01T21:19:14.486704",
     "status": "completed"
    },
    "tags": []
   },
   "source": [
    "## Compiling and Fitting the Model"
   ]
  },
  {
   "cell_type": "code",
   "execution_count": 11,
   "id": "2c79c2d7",
   "metadata": {
    "execution": {
     "iopub.execute_input": "2022-03-01T21:19:14.548996Z",
     "iopub.status.busy": "2022-03-01T21:19:14.546910Z",
     "iopub.status.idle": "2022-03-01T21:19:14.555872Z",
     "shell.execute_reply": "2022-03-01T21:19:14.555424Z",
     "shell.execute_reply.started": "2022-03-01T21:17:36.664981Z"
    },
    "papermill": {
     "duration": 0.032777,
     "end_time": "2022-03-01T21:19:14.555975",
     "exception": false,
     "start_time": "2022-03-01T21:19:14.523198",
     "status": "completed"
    },
    "tags": []
   },
   "outputs": [],
   "source": [
    "model.compile(\n",
    "    optimizer='adam',\n",
    "    loss='sparse_categorical_crossentropy',\n",
    "    metrics=['accuracy']\n",
    ")"
   ]
  },
  {
   "cell_type": "code",
   "execution_count": 12,
   "id": "d12c7567",
   "metadata": {
    "execution": {
     "iopub.execute_input": "2022-03-01T21:19:14.596803Z",
     "iopub.status.busy": "2022-03-01T21:19:14.596169Z",
     "iopub.status.idle": "2022-03-01T21:19:58.095036Z",
     "shell.execute_reply": "2022-03-01T21:19:58.094490Z",
     "shell.execute_reply.started": "2022-03-01T21:17:36.695451Z"
    },
    "papermill": {
     "duration": 43.521173,
     "end_time": "2022-03-01T21:19:58.095189",
     "exception": false,
     "start_time": "2022-03-01T21:19:14.574016",
     "status": "completed"
    },
    "tags": []
   },
   "outputs": [
    {
     "name": "stderr",
     "output_type": "stream",
     "text": [
      "2022-03-01 21:19:14.891769: I tensorflow/compiler/mlir/mlir_graph_optimization_pass.cc:185] None of the MLIR Optimization Passes are enabled (registered 2)\n"
     ]
    },
    {
     "name": "stdout",
     "output_type": "stream",
     "text": [
      "Epoch 1/10\n"
     ]
    },
    {
     "name": "stderr",
     "output_type": "stream",
     "text": [
      "2022-03-01 21:19:16.182958: I tensorflow/stream_executor/cuda/cuda_dnn.cc:369] Loaded cuDNN version 8005\n"
     ]
    },
    {
     "name": "stdout",
     "output_type": "stream",
     "text": [
      "1050/1050 [==============================] - 11s 4ms/step - loss: 0.1957 - accuracy: 0.9385 - val_loss: 0.0694 - val_accuracy: 0.9771\n",
      "Epoch 2/10\n",
      "1050/1050 [==============================] - 3s 3ms/step - loss: 0.0628 - accuracy: 0.9801 - val_loss: 0.0438 - val_accuracy: 0.9861\n",
      "Epoch 3/10\n",
      "1050/1050 [==============================] - 3s 3ms/step - loss: 0.0449 - accuracy: 0.9860 - val_loss: 0.0434 - val_accuracy: 0.9860\n",
      "Epoch 4/10\n",
      "1050/1050 [==============================] - 4s 3ms/step - loss: 0.0350 - accuracy: 0.9890 - val_loss: 0.0502 - val_accuracy: 0.9849\n",
      "Epoch 5/10\n",
      "1050/1050 [==============================] - 3s 3ms/step - loss: 0.0319 - accuracy: 0.9892 - val_loss: 0.0462 - val_accuracy: 0.9881\n",
      "Epoch 6/10\n",
      "1050/1050 [==============================] - 3s 3ms/step - loss: 0.0254 - accuracy: 0.9919 - val_loss: 0.0351 - val_accuracy: 0.9904\n",
      "Epoch 7/10\n",
      "1050/1050 [==============================] - 4s 3ms/step - loss: 0.0232 - accuracy: 0.9924 - val_loss: 0.0675 - val_accuracy: 0.9858\n",
      "Epoch 8/10\n",
      "1050/1050 [==============================] - 4s 3ms/step - loss: 0.0196 - accuracy: 0.9941 - val_loss: 0.0388 - val_accuracy: 0.9907\n",
      "Epoch 9/10\n",
      "1050/1050 [==============================] - 3s 3ms/step - loss: 0.0234 - accuracy: 0.9924 - val_loss: 0.0538 - val_accuracy: 0.9889\n",
      "Epoch 10/10\n",
      "1050/1050 [==============================] - 4s 4ms/step - loss: 0.0214 - accuracy: 0.9934 - val_loss: 0.0690 - val_accuracy: 0.9871\n"
     ]
    }
   ],
   "source": [
    "history = model.fit(\n",
    "    x=x_train,\n",
    "    y=y_train,\n",
    "    validation_split=0.2,\n",
    "    epochs=10\n",
    ")"
   ]
  },
  {
   "cell_type": "markdown",
   "id": "37659801",
   "metadata": {
    "papermill": {
     "duration": 0.209753,
     "end_time": "2022-03-01T21:19:58.563920",
     "exception": false,
     "start_time": "2022-03-01T21:19:58.354167",
     "status": "completed"
    },
    "tags": []
   },
   "source": [
    "## Evaluating the Model"
   ]
  },
  {
   "cell_type": "code",
   "execution_count": 13,
   "id": "7abb3bec",
   "metadata": {
    "execution": {
     "iopub.execute_input": "2022-03-01T21:19:58.992351Z",
     "iopub.status.busy": "2022-03-01T21:19:58.991666Z",
     "iopub.status.idle": "2022-03-01T21:19:59.389180Z",
     "shell.execute_reply": "2022-03-01T21:19:59.388705Z",
     "shell.execute_reply.started": "2022-03-01T21:18:25.273041Z"
    },
    "papermill": {
     "duration": 0.616935,
     "end_time": "2022-03-01T21:19:59.389306",
     "exception": false,
     "start_time": "2022-03-01T21:19:58.772371",
     "status": "completed"
    },
    "tags": []
   },
   "outputs": [
    {
     "data": {
      "image/png": "[encoded data removed]",
      "text/plain": [
       "<Figure size 432x288 with 1 Axes>"
      ]
     },
     "metadata": {
      "needs_background": "light"
     },
     "output_type": "display_data"
    },
    {
     "data": {
      "image/png": "[encoded data removed]",
      "text/plain": [
       "<Figure size 432x288 with 1 Axes>"
      ]
     },
     "metadata": {
      "needs_background": "light"
     },
     "output_type": "display_data"
    }
   ],
   "source": [
    "history_frame = pd.DataFrame(history.history)\n",
    "history_frame.loc[:, ['loss', 'val_loss']].plot()\n",
    "history_frame.loc[:, ['accuracy', 'val_accuracy']].plot();"
   ]
  },
  {
   "cell_type": "markdown",
   "id": "950f03c7",
   "metadata": {
    "papermill": {
     "duration": 0.208153,
     "end_time": "2022-03-01T21:19:59.807646",
     "exception": false,
     "start_time": "2022-03-01T21:19:59.599493",
     "status": "completed"
    },
    "tags": []
   },
   "source": [
    "## Predicting the Results"
   ]
  },
  {
   "cell_type": "code",
   "execution_count": 14,
   "id": "49eaa763",
   "metadata": {
    "execution": {
     "iopub.execute_input": "2022-03-01T21:20:00.241833Z",
     "iopub.status.busy": "2022-03-01T21:20:00.240815Z",
     "iopub.status.idle": "2022-03-01T21:20:01.813592Z",
     "shell.execute_reply": "2022-03-01T21:20:01.814006Z",
     "shell.execute_reply.started": "2022-03-01T21:18:25.767213Z"
    },
    "papermill": {
     "duration": 1.794673,
     "end_time": "2022-03-01T21:20:01.814225",
     "exception": false,
     "start_time": "2022-03-01T21:20:00.019552",
     "status": "completed"
    },
    "tags": []
   },
   "outputs": [],
   "source": [
    "preds = model.predict(test_df)\n",
    "preds_classes=np.argmax(preds,axis=1)"
   ]
  },
  {
   "cell_type": "code",
   "execution_count": 15,
   "id": "1530a198",
   "metadata": {
    "execution": {
     "iopub.execute_input": "2022-03-01T21:20:02.247846Z",
     "iopub.status.busy": "2022-03-01T21:20:02.247272Z",
     "iopub.status.idle": "2022-03-01T21:20:02.315369Z",
     "shell.execute_reply": "2022-03-01T21:20:02.315831Z",
     "shell.execute_reply.started": "2022-03-01T21:18:28.611708Z"
    },
    "papermill": {
     "duration": 0.285126,
     "end_time": "2022-03-01T21:20:02.315987",
     "exception": false,
     "start_time": "2022-03-01T21:20:02.030861",
     "status": "completed"
    },
    "tags": []
   },
   "outputs": [
    {
     "data": {
      "text/html": [
       "<div>\n",
       "<style scoped>\n",
       "    .dataframe tbody tr th:only-of-type {\n",
       "        vertical-align: middle;\n",
       "    }\n",
       "\n",
       "    .dataframe tbody tr th {\n",
       "        vertical-align: top;\n",
       "    }\n",
       "\n",
       "    .dataframe thead th {\n",
       "        text-align: right;\n",
       "    }\n",
       "</style>\n",
       "<table border=\"1\" class=\"dataframe\">\n",
       "  <thead>\n",
       "    <tr style=\"text-align: right;\">\n",
       "      <th></th>\n",
       "      <th>ImageId</th>\n",
       "      <th>Label</th>\n",
       "    </tr>\n",
       "  </thead>\n",
       "  <tbody>\n",
       "    <tr>\n",
       "      <th>0</th>\n",
       "      <td>1</td>\n",
       "      <td>2</td>\n",
       "    </tr>\n",
       "    <tr>\n",
       "      <th>1</th>\n",
       "      <td>2</td>\n",
       "      <td>0</td>\n",
       "    </tr>\n",
       "    <tr>\n",
       "      <th>2</th>\n",
       "      <td>3</td>\n",
       "      <td>9</td>\n",
       "    </tr>\n",
       "    <tr>\n",
       "      <th>3</th>\n",
       "      <td>4</td>\n",
       "      <td>9</td>\n",
       "    </tr>\n",
       "    <tr>\n",
       "      <th>4</th>\n",
       "      <td>5</td>\n",
       "      <td>3</td>\n",
       "    </tr>\n",
       "  </tbody>\n",
       "</table>\n",
       "</div>"
      ],
      "text/plain": [
       "   ImageId  Label\n",
       "0        1      2\n",
       "1        2      0\n",
       "2        3      9\n",
       "3        4      9\n",
       "4        5      3"
      ]
     },
     "execution_count": 15,
     "metadata": {},
     "output_type": "execute_result"
    }
   ],
   "source": [
    "sub = pd.read_csv('/kaggle/input/digit-recognizer/sample_submission.csv')\n",
    "sub['Label']=preds_classes\n",
    "sub.to_csv('submission.csv', index=False)\n",
    "sub.head()"
   ]
  },
  {
   "cell_type": "code",
   "execution_count": null,
   "id": "3e358bea",
   "metadata": {
    "papermill": {
     "duration": 0.211222,
     "end_time": "2022-03-01T21:20:02.739647",
     "exception": false,
     "start_time": "2022-03-01T21:20:02.528425",
     "status": "completed"
    },
    "tags": []
   },
   "outputs": [],
   "source": []
  }
 ],
 "metadata": {
  "kernelspec": {
   "display_name": "Python 3",
   "language": "python",
   "name": "python3"
  },
  "language_info": {
   "codemirror_mode": {
    "name": "ipython",
    "version": 3
   },
   "file_extension": ".py",
   "mimetype": "text/x-python",
   "name": "python",
   "nbconvert_exporter": "python",
   "pygments_lexer": "ipython3",
   "version": "3.7.12"
  },
  "papermill": {
   "default_parameters": {},
   "duration": 73.368808,
   "end_time": "2022-03-01T21:20:06.026159",
   "environment_variables": {},
   "exception": null,
   "input_path": "__notebook__.ipynb",
   "output_path": "__notebook__.ipynb",
   "parameters": {},
   "start_time": "2022-03-01T21:18:52.657351",
   "version": "2.3.3"
  }
 },
 "nbformat": 4,
 "nbformat_minor": 5
}
