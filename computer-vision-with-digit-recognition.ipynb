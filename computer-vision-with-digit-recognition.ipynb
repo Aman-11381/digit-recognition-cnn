{
 "cells": [
  {
   "cell_type": "code",
   "execution_count": 1,
   "id": "770db7fa",
   "metadata": {
    "_cell_guid": "b1076dfc-b9ad-4769-8c92-a6c4dae69d19",
    "_uuid": "8f2839f25d086af736a60e9eeb907d3b93b6e0e5",
    "execution": {
     "iopub.execute_input": "2022-03-01T21:13:58.338428Z",
     "iopub.status.busy": "2022-03-01T21:13:58.331492Z",
     "iopub.status.idle": "2022-03-01T21:13:58.343875Z",
     "shell.execute_reply": "2022-03-01T21:13:58.344463Z",
     "shell.execute_reply.started": "2022-03-01T20:43:39.055512Z"
    },
    "papermill": {
     "duration": 0.03439,
     "end_time": "2022-03-01T21:13:58.344741",
     "exception": false,
     "start_time": "2022-03-01T21:13:58.310351",
     "status": "completed"
    },
    "tags": []
   },
   "outputs": [
    {
     "name": "stdout",
     "output_type": "stream",
     "text": [
      "/kaggle/input/digit-recognizer/sample_submission.csv\n",
      "/kaggle/input/digit-recognizer/train.csv\n",
      "/kaggle/input/digit-recognizer/test.csv\n"
     ]
    }
   ],
   "source": [
    "# Input data files are available in the read-only \"../input/\" directory\n",
    "# For example, running this (by clicking run or pressing Shift+Enter) will list all files under the input directory\n",
    "\n",
    "import os\n",
    "for dirname, _, filenames in os.walk('/kaggle/input'):\n",
    "    for filename in filenames:\n",
    "        print(os.path.join(dirname, filename))\n",
    "\n",
    "# You can write up to 20GB to the current directory (/kaggle/working/) that gets preserved as output when you create a version using \"Save & Run All\" \n",
    "# You can also write temporary files to /kaggle/temp/, but they won't be saved outside of the current session"
   ]
  },
  {
   "cell_type": "markdown",
   "id": "dec453b8",
   "metadata": {
    "papermill": {
     "duration": 0.016584,
     "end_time": "2022-03-01T21:13:58.379966",
     "exception": false,
     "start_time": "2022-03-01T21:13:58.363382",
     "status": "completed"
    },
    "tags": []
   },
   "source": [
    "## Importing the Libraries"
   ]
  },
  {
   "cell_type": "code",
   "execution_count": 2,
   "id": "87d16761",
   "metadata": {
    "execution": {
     "iopub.execute_input": "2022-03-01T21:13:58.417812Z",
     "iopub.status.busy": "2022-03-01T21:13:58.417091Z",
     "iopub.status.idle": "2022-03-01T21:14:04.217221Z",
     "shell.execute_reply": "2022-03-01T21:14:04.216714Z",
     "shell.execute_reply.started": "2022-03-01T20:43:39.075154Z"
    },
    "papermill": {
     "duration": 5.820667,
     "end_time": "2022-03-01T21:14:04.217358",
     "exception": false,
     "start_time": "2022-03-01T21:13:58.396691",
     "status": "completed"
    },
    "tags": []
   },
   "outputs": [],
   "source": [
    "import pandas as pd\n",
    "import numpy as np\n",
    "\n",
    "from sklearn.model_selection import train_test_split\n",
    "\n",
    "from tensorflow import keras\n",
    "from tensorflow.keras import layers"
   ]
  },
  {
   "cell_type": "code",
   "execution_count": 3,
   "id": "9b876aa9",
   "metadata": {
    "execution": {
     "iopub.execute_input": "2022-03-01T21:14:04.256067Z",
     "iopub.status.busy": "2022-03-01T21:14:04.255400Z",
     "iopub.status.idle": "2022-03-01T21:14:09.164802Z",
     "shell.execute_reply": "2022-03-01T21:14:09.164310Z",
     "shell.execute_reply.started": "2022-03-01T20:43:39.088476Z"
    },
    "papermill": {
     "duration": 4.93018,
     "end_time": "2022-03-01T21:14:09.164967",
     "exception": false,
     "start_time": "2022-03-01T21:14:04.234787",
     "status": "completed"
    },
    "tags": []
   },
   "outputs": [],
   "source": [
    "train_df = pd.read_csv('/kaggle/input/digit-recognizer/train.csv')\n",
    "test_df = pd.read_csv('/kaggle/input/digit-recognizer/test.csv')"
   ]
  },
  {
   "cell_type": "code",
   "execution_count": 4,
   "id": "1fc9c97f",
   "metadata": {
    "execution": {
     "iopub.execute_input": "2022-03-01T21:14:09.212612Z",
     "iopub.status.busy": "2022-03-01T21:14:09.211902Z",
     "iopub.status.idle": "2022-03-01T21:14:09.228939Z",
     "shell.execute_reply": "2022-03-01T21:14:09.229422Z",
     "shell.execute_reply.started": "2022-03-01T20:43:44.470021Z"
    },
    "papermill": {
     "duration": 0.042406,
     "end_time": "2022-03-01T21:14:09.229546",
     "exception": false,
     "start_time": "2022-03-01T21:14:09.187140",
     "status": "completed"
    },
    "tags": []
   },
   "outputs": [
    {
     "data": {
      "text/html": [
       "<div>\n",
       "<style scoped>\n",
       "    .dataframe tbody tr th:only-of-type {\n",
       "        vertical-align: middle;\n",
       "    }\n",
       "\n",
       "    .dataframe tbody tr th {\n",
       "        vertical-align: top;\n",
       "    }\n",
       "\n",
       "    .dataframe thead th {\n",
       "        text-align: right;\n",
       "    }\n",
       "</style>\n",
       "<table border=\"1\" class=\"dataframe\">\n",
       "  <thead>\n",
       "    <tr style=\"text-align: right;\">\n",
       "      <th></th>\n",
       "      <th>label</th>\n",
       "      <th>pixel0</th>\n",
       "      <th>pixel1</th>\n",
       "      <th>pixel2</th>\n",
       "      <th>pixel3</th>\n",
       "      <th>pixel4</th>\n",
       "      <th>pixel5</th>\n",
       "      <th>pixel6</th>\n",
       "      <th>pixel7</th>\n",
       "      <th>pixel8</th>\n",
       "      <th>...</th>\n",
       "      <th>pixel774</th>\n",
       "      <th>pixel775</th>\n",
       "      <th>pixel776</th>\n",
       "      <th>pixel777</th>\n",
       "      <th>pixel778</th>\n",
       "      <th>pixel779</th>\n",
       "      <th>pixel780</th>\n",
       "      <th>pixel781</th>\n",
       "      <th>pixel782</th>\n",
       "      <th>pixel783</th>\n",
       "    </tr>\n",
       "  </thead>\n",
       "  <tbody>\n",
       "    <tr>\n",
       "      <th>0</th>\n",
       "      <td>1</td>\n",
       "      <td>0</td>\n",
       "      <td>0</td>\n",
       "      <td>0</td>\n",
       "      <td>0</td>\n",
       "      <td>0</td>\n",
       "      <td>0</td>\n",
       "      <td>0</td>\n",
       "      <td>0</td>\n",
       "      <td>0</td>\n",
       "      <td>...</td>\n",
       "      <td>0</td>\n",
       "      <td>0</td>\n",
       "      <td>0</td>\n",
       "      <td>0</td>\n",
       "      <td>0</td>\n",
       "      <td>0</td>\n",
       "      <td>0</td>\n",
       "      <td>0</td>\n",
       "      <td>0</td>\n",
       "      <td>0</td>\n",
       "    </tr>\n",
       "    <tr>\n",
       "      <th>1</th>\n",
       "      <td>0</td>\n",
       "      <td>0</td>\n",
       "      <td>0</td>\n",
       "      <td>0</td>\n",
       "      <td>0</td>\n",
       "      <td>0</td>\n",
       "      <td>0</td>\n",
       "      <td>0</td>\n",
       "      <td>0</td>\n",
       "      <td>0</td>\n",
       "      <td>...</td>\n",
       "      <td>0</td>\n",
       "      <td>0</td>\n",
       "      <td>0</td>\n",
       "      <td>0</td>\n",
       "      <td>0</td>\n",
       "      <td>0</td>\n",
       "      <td>0</td>\n",
       "      <td>0</td>\n",
       "      <td>0</td>\n",
       "      <td>0</td>\n",
       "    </tr>\n",
       "    <tr>\n",
       "      <th>2</th>\n",
       "      <td>1</td>\n",
       "      <td>0</td>\n",
       "      <td>0</td>\n",
       "      <td>0</td>\n",
       "      <td>0</td>\n",
       "      <td>0</td>\n",
       "      <td>0</td>\n",
       "      <td>0</td>\n",
       "      <td>0</td>\n",
       "      <td>0</td>\n",
       "      <td>...</td>\n",
       "      <td>0</td>\n",
       "      <td>0</td>\n",
       "      <td>0</td>\n",
       "      <td>0</td>\n",
       "      <td>0</td>\n",
       "      <td>0</td>\n",
       "      <td>0</td>\n",
       "      <td>0</td>\n",
       "      <td>0</td>\n",
       "      <td>0</td>\n",
       "    </tr>\n",
       "    <tr>\n",
       "      <th>3</th>\n",
       "      <td>4</td>\n",
       "      <td>0</td>\n",
       "      <td>0</td>\n",
       "      <td>0</td>\n",
       "      <td>0</td>\n",
       "      <td>0</td>\n",
       "      <td>0</td>\n",
       "      <td>0</td>\n",
       "      <td>0</td>\n",
       "      <td>0</td>\n",
       "      <td>...</td>\n",
       "      <td>0</td>\n",
       "      <td>0</td>\n",
       "      <td>0</td>\n",
       "      <td>0</td>\n",
       "      <td>0</td>\n",
       "      <td>0</td>\n",
       "      <td>0</td>\n",
       "      <td>0</td>\n",
       "      <td>0</td>\n",
       "      <td>0</td>\n",
       "    </tr>\n",
       "    <tr>\n",
       "      <th>4</th>\n",
       "      <td>0</td>\n",
       "      <td>0</td>\n",
       "      <td>0</td>\n",
       "      <td>0</td>\n",
       "      <td>0</td>\n",
       "      <td>0</td>\n",
       "      <td>0</td>\n",
       "      <td>0</td>\n",
       "      <td>0</td>\n",
       "      <td>0</td>\n",
       "      <td>...</td>\n",
       "      <td>0</td>\n",
       "      <td>0</td>\n",
       "      <td>0</td>\n",
       "      <td>0</td>\n",
       "      <td>0</td>\n",
       "      <td>0</td>\n",
       "      <td>0</td>\n",
       "      <td>0</td>\n",
       "      <td>0</td>\n",
       "      <td>0</td>\n",
       "    </tr>\n",
       "  </tbody>\n",
       "</table>\n",
       "<p>5 rows × 785 columns</p>\n",
       "</div>"
      ],
      "text/plain": [
       "   label  pixel0  pixel1  pixel2  pixel3  pixel4  pixel5  pixel6  pixel7  \\\n",
       "0      1       0       0       0       0       0       0       0       0   \n",
       "1      0       0       0       0       0       0       0       0       0   \n",
       "2      1       0       0       0       0       0       0       0       0   \n",
       "3      4       0       0       0       0       0       0       0       0   \n",
       "4      0       0       0       0       0       0       0       0       0   \n",
       "\n",
       "   pixel8  ...  pixel774  pixel775  pixel776  pixel777  pixel778  pixel779  \\\n",
       "0       0  ...         0         0         0         0         0         0   \n",
       "1       0  ...         0         0         0         0         0         0   \n",
       "2       0  ...         0         0         0         0         0         0   \n",
       "3       0  ...         0         0         0         0         0         0   \n",
       "4       0  ...         0         0         0         0         0         0   \n",
       "\n",
       "   pixel780  pixel781  pixel782  pixel783  \n",
       "0         0         0         0         0  \n",
       "1         0         0         0         0  \n",
       "2         0         0         0         0  \n",
       "3         0         0         0         0  \n",
       "4         0         0         0         0  \n",
       "\n",
       "[5 rows x 785 columns]"
      ]
     },
     "execution_count": 4,
     "metadata": {},
     "output_type": "execute_result"
    }
   ],
   "source": [
    "train_df.head()"
   ]
  },
  {
   "cell_type": "code",
   "execution_count": 5,
   "id": "fbf2613e",
   "metadata": {
    "execution": {
     "iopub.execute_input": "2022-03-01T21:14:09.269260Z",
     "iopub.status.busy": "2022-03-01T21:14:09.268728Z",
     "iopub.status.idle": "2022-03-01T21:14:09.273703Z",
     "shell.execute_reply": "2022-03-01T21:14:09.273308Z",
     "shell.execute_reply.started": "2022-03-01T20:43:44.499663Z"
    },
    "papermill": {
     "duration": 0.02646,
     "end_time": "2022-03-01T21:14:09.273807",
     "exception": false,
     "start_time": "2022-03-01T21:14:09.247347",
     "status": "completed"
    },
    "tags": []
   },
   "outputs": [
    {
     "data": {
      "text/plain": [
       "(42000, 785)"
      ]
     },
     "execution_count": 5,
     "metadata": {},
     "output_type": "execute_result"
    }
   ],
   "source": [
    "train_df.shape"
   ]
  },
  {
   "cell_type": "markdown",
   "id": "619aeba4",
   "metadata": {
    "execution": {
     "iopub.execute_input": "2022-03-01T21:04:57.637895Z",
     "iopub.status.busy": "2022-03-01T21:04:57.637512Z",
     "iopub.status.idle": "2022-03-01T21:04:57.643394Z",
     "shell.execute_reply": "2022-03-01T21:04:57.642317Z",
     "shell.execute_reply.started": "2022-03-01T21:04:57.637843Z"
    },
    "papermill": {
     "duration": 0.017672,
     "end_time": "2022-03-01T21:14:09.311158",
     "exception": false,
     "start_time": "2022-03-01T21:14:09.293486",
     "status": "completed"
    },
    "tags": []
   },
   "source": [
    "## Preprocessing the Data"
   ]
  },
  {
   "cell_type": "code",
   "execution_count": 6,
   "id": "de0dcb15",
   "metadata": {
    "execution": {
     "iopub.execute_input": "2022-03-01T21:14:09.351204Z",
     "iopub.status.busy": "2022-03-01T21:14:09.350476Z",
     "iopub.status.idle": "2022-03-01T21:14:09.353138Z",
     "shell.execute_reply": "2022-03-01T21:14:09.352733Z",
     "shell.execute_reply.started": "2022-03-01T20:43:44.512048Z"
    },
    "papermill": {
     "duration": 0.024261,
     "end_time": "2022-03-01T21:14:09.353241",
     "exception": false,
     "start_time": "2022-03-01T21:14:09.328980",
     "status": "completed"
    },
    "tags": []
   },
   "outputs": [],
   "source": [
    "x_train = train_df.iloc[:,1:]\n",
    "y_train = train_df.iloc[:,0]"
   ]
  },
  {
   "cell_type": "code",
   "execution_count": 7,
   "id": "d6289e4f",
   "metadata": {
    "execution": {
     "iopub.execute_input": "2022-03-01T21:14:09.392831Z",
     "iopub.status.busy": "2022-03-01T21:14:09.392342Z",
     "iopub.status.idle": "2022-03-01T21:14:09.395982Z",
     "shell.execute_reply": "2022-03-01T21:14:09.395543Z",
     "shell.execute_reply.started": "2022-03-01T20:43:44.520913Z"
    },
    "papermill": {
     "duration": 0.024895,
     "end_time": "2022-03-01T21:14:09.396087",
     "exception": false,
     "start_time": "2022-03-01T21:14:09.371192",
     "status": "completed"
    },
    "tags": []
   },
   "outputs": [],
   "source": [
    "x_train = x_train.values.reshape(-1,28,28,1)\n",
    "test_df = test_df.values.reshape(-1,28,28,1)"
   ]
  },
  {
   "cell_type": "code",
   "execution_count": 8,
   "id": "5f2cb622",
   "metadata": {
    "execution": {
     "iopub.execute_input": "2022-03-01T21:14:09.434608Z",
     "iopub.status.busy": "2022-03-01T21:14:09.433792Z",
     "iopub.status.idle": "2022-03-01T21:14:09.531283Z",
     "shell.execute_reply": "2022-03-01T21:14:09.531693Z",
     "shell.execute_reply.started": "2022-03-01T20:43:44.532191Z"
    },
    "papermill": {
     "duration": 0.11781,
     "end_time": "2022-03-01T21:14:09.531852",
     "exception": false,
     "start_time": "2022-03-01T21:14:09.414042",
     "status": "completed"
    },
    "tags": []
   },
   "outputs": [],
   "source": [
    "# changing the datatype to float so that we have float values after normalization\n",
    "x_train = x_train.astype('float32')\n",
    "test_df = test_df.astype('float32')"
   ]
  },
  {
   "cell_type": "code",
   "execution_count": 9,
   "id": "080d5c76",
   "metadata": {
    "execution": {
     "iopub.execute_input": "2022-03-01T21:14:09.573219Z",
     "iopub.status.busy": "2022-03-01T21:14:09.572196Z",
     "iopub.status.idle": "2022-03-01T21:14:09.640270Z",
     "shell.execute_reply": "2022-03-01T21:14:09.639672Z",
     "shell.execute_reply.started": "2022-03-01T20:43:44.658952Z"
    },
    "papermill": {
     "duration": 0.090095,
     "end_time": "2022-03-01T21:14:09.640428",
     "exception": false,
     "start_time": "2022-03-01T21:14:09.550333",
     "status": "completed"
    },
    "tags": []
   },
   "outputs": [],
   "source": [
    "# normalizing the data\n",
    "x_train = x_train/255\n",
    "test_df = test_df/255"
   ]
  },
  {
   "cell_type": "markdown",
   "id": "1d9f853b",
   "metadata": {
    "papermill": {
     "duration": 0.018233,
     "end_time": "2022-03-01T21:14:09.677077",
     "exception": false,
     "start_time": "2022-03-01T21:14:09.658844",
     "status": "completed"
    },
    "tags": []
   },
   "source": [
    "## Building the Model"
   ]
  },
  {
   "cell_type": "code",
   "execution_count": 10,
   "id": "13da3664",
   "metadata": {
    "execution": {
     "iopub.execute_input": "2022-03-01T21:14:09.717749Z",
     "iopub.status.busy": "2022-03-01T21:14:09.717249Z",
     "iopub.status.idle": "2022-03-01T21:14:11.998609Z",
     "shell.execute_reply": "2022-03-01T21:14:11.997975Z",
     "shell.execute_reply.started": "2022-03-01T20:43:44.754097Z"
    },
    "papermill": {
     "duration": 2.303807,
     "end_time": "2022-03-01T21:14:11.998778",
     "exception": false,
     "start_time": "2022-03-01T21:14:09.694971",
     "status": "completed"
    },
    "tags": []
   },
   "outputs": [
    {
     "name": "stderr",
     "output_type": "stream",
     "text": [
      "2022-03-01 21:14:09.801532: I tensorflow/stream_executor/cuda/cuda_gpu_executor.cc:937] successful NUMA node read from SysFS had negative value (-1), but there must be at least one NUMA node, so returning NUMA node zero\n",
      "2022-03-01 21:14:09.888599: I tensorflow/stream_executor/cuda/cuda_gpu_executor.cc:937] successful NUMA node read from SysFS had negative value (-1), but there must be at least one NUMA node, so returning NUMA node zero\n",
      "2022-03-01 21:14:09.889363: I tensorflow/stream_executor/cuda/cuda_gpu_executor.cc:937] successful NUMA node read from SysFS had negative value (-1), but there must be at least one NUMA node, so returning NUMA node zero\n",
      "2022-03-01 21:14:09.890452: I tensorflow/core/platform/cpu_feature_guard.cc:142] This TensorFlow binary is optimized with oneAPI Deep Neural Network Library (oneDNN) to use the following CPU instructions in performance-critical operations:  AVX2 AVX512F FMA\n",
      "To enable them in other operations, rebuild TensorFlow with the appropriate compiler flags.\n",
      "2022-03-01 21:14:09.891520: I tensorflow/stream_executor/cuda/cuda_gpu_executor.cc:937] successful NUMA node read from SysFS had negative value (-1), but there must be at least one NUMA node, so returning NUMA node zero\n",
      "2022-03-01 21:14:09.892178: I tensorflow/stream_executor/cuda/cuda_gpu_executor.cc:937] successful NUMA node read from SysFS had negative value (-1), but there must be at least one NUMA node, so returning NUMA node zero\n",
      "2022-03-01 21:14:09.892780: I tensorflow/stream_executor/cuda/cuda_gpu_executor.cc:937] successful NUMA node read from SysFS had negative value (-1), but there must be at least one NUMA node, so returning NUMA node zero\n",
      "2022-03-01 21:14:11.586809: I tensorflow/stream_executor/cuda/cuda_gpu_executor.cc:937] successful NUMA node read from SysFS had negative value (-1), but there must be at least one NUMA node, so returning NUMA node zero\n",
      "2022-03-01 21:14:11.587607: I tensorflow/stream_executor/cuda/cuda_gpu_executor.cc:937] successful NUMA node read from SysFS had negative value (-1), but there must be at least one NUMA node, so returning NUMA node zero\n",
      "2022-03-01 21:14:11.588257: I tensorflow/stream_executor/cuda/cuda_gpu_executor.cc:937] successful NUMA node read from SysFS had negative value (-1), but there must be at least one NUMA node, so returning NUMA node zero\n",
      "2022-03-01 21:14:11.588817: I tensorflow/core/common_runtime/gpu/gpu_device.cc:1510] Created device /job:localhost/replica:0/task:0/device:GPU:0 with 15403 MB memory:  -> device: 0, name: Tesla P100-PCIE-16GB, pci bus id: 0000:00:04.0, compute capability: 6.0\n"
     ]
    }
   ],
   "source": [
    "model = keras.Sequential([\n",
    "    layers.Conv2D(filters=32,kernel_size=3,input_shape=[28,28,1]),\n",
    "    layers.MaxPooling2D(pool_size=2),\n",
    "    layers.Flatten(),\n",
    "    layers.Dense(128,activation='relu'),\n",
    "    layers.Dropout(0.2),\n",
    "    layers.Dense(10,activation='softmax'),\n",
    "])"
   ]
  },
  {
   "cell_type": "markdown",
   "id": "20e6cf05",
   "metadata": {
    "papermill": {
     "duration": 0.030167,
     "end_time": "2022-03-01T21:14:12.063569",
     "exception": false,
     "start_time": "2022-03-01T21:14:12.033402",
     "status": "completed"
    },
    "tags": []
   },
   "source": [
    "## Compiling and Fitting the Model"
   ]
  },
  {
   "cell_type": "code",
   "execution_count": 11,
   "id": "a9b938a5",
   "metadata": {
    "execution": {
     "iopub.execute_input": "2022-03-01T21:14:12.133846Z",
     "iopub.status.busy": "2022-03-01T21:14:12.133101Z",
     "iopub.status.idle": "2022-03-01T21:14:12.141379Z",
     "shell.execute_reply": "2022-03-01T21:14:12.142343Z",
     "shell.execute_reply.started": "2022-03-01T20:43:44.804342Z"
    },
    "papermill": {
     "duration": 0.049051,
     "end_time": "2022-03-01T21:14:12.142514",
     "exception": false,
     "start_time": "2022-03-01T21:14:12.093463",
     "status": "completed"
    },
    "tags": []
   },
   "outputs": [],
   "source": [
    "model.compile(\n",
    "    optimizer='adam',\n",
    "    loss='sparse_categorical_crossentropy',\n",
    "    metrics=['accuracy']\n",
    ")"
   ]
  },
  {
   "cell_type": "code",
   "execution_count": 12,
   "id": "bbcb129a",
   "metadata": {
    "execution": {
     "iopub.execute_input": "2022-03-01T21:14:12.209685Z",
     "iopub.status.busy": "2022-03-01T21:14:12.208893Z",
     "iopub.status.idle": "2022-03-01T21:14:46.144782Z",
     "shell.execute_reply": "2022-03-01T21:14:46.144357Z",
     "shell.execute_reply.started": "2022-03-01T20:43:44.821843Z"
    },
    "papermill": {
     "duration": 33.971838,
     "end_time": "2022-03-01T21:14:46.144906",
     "exception": false,
     "start_time": "2022-03-01T21:14:12.173068",
     "status": "completed"
    },
    "tags": []
   },
   "outputs": [
    {
     "name": "stderr",
     "output_type": "stream",
     "text": [
      "2022-03-01 21:14:12.547252: I tensorflow/compiler/mlir/mlir_graph_optimization_pass.cc:185] None of the MLIR Optimization Passes are enabled (registered 2)\n"
     ]
    },
    {
     "name": "stdout",
     "output_type": "stream",
     "text": [
      "Epoch 1/10\n"
     ]
    },
    {
     "name": "stderr",
     "output_type": "stream",
     "text": [
      "2022-03-01 21:14:13.736828: I tensorflow/stream_executor/cuda/cuda_dnn.cc:369] Loaded cuDNN version 8005\n"
     ]
    },
    {
     "name": "stdout",
     "output_type": "stream",
     "text": [
      "1050/1050 [==============================] - 9s 3ms/step - loss: 0.2579 - accuracy: 0.9224 - val_loss: 0.1033 - val_accuracy: 0.9681\n",
      "Epoch 2/10\n",
      "1050/1050 [==============================] - 3s 3ms/step - loss: 0.1044 - accuracy: 0.9670 - val_loss: 0.0886 - val_accuracy: 0.9731\n",
      "Epoch 3/10\n",
      "1050/1050 [==============================] - 3s 2ms/step - loss: 0.0691 - accuracy: 0.9784 - val_loss: 0.0743 - val_accuracy: 0.9765\n",
      "Epoch 4/10\n",
      "1050/1050 [==============================] - 3s 3ms/step - loss: 0.0534 - accuracy: 0.9824 - val_loss: 0.0691 - val_accuracy: 0.9786\n",
      "Epoch 5/10\n",
      "1050/1050 [==============================] - 3s 2ms/step - loss: 0.0402 - accuracy: 0.9867 - val_loss: 0.0690 - val_accuracy: 0.9787\n",
      "Epoch 6/10\n",
      "1050/1050 [==============================] - 3s 3ms/step - loss: 0.0323 - accuracy: 0.9891 - val_loss: 0.0637 - val_accuracy: 0.9814\n",
      "Epoch 7/10\n",
      "1050/1050 [==============================] - 3s 2ms/step - loss: 0.0268 - accuracy: 0.9906 - val_loss: 0.0744 - val_accuracy: 0.9804\n",
      "Epoch 8/10\n",
      "1050/1050 [==============================] - 3s 2ms/step - loss: 0.0256 - accuracy: 0.9908 - val_loss: 0.0708 - val_accuracy: 0.9807\n",
      "Epoch 9/10\n",
      "1050/1050 [==============================] - 3s 3ms/step - loss: 0.0185 - accuracy: 0.9941 - val_loss: 0.0824 - val_accuracy: 0.9786\n",
      "Epoch 10/10\n",
      "1050/1050 [==============================] - 3s 3ms/step - loss: 0.0209 - accuracy: 0.9926 - val_loss: 0.0626 - val_accuracy: 0.9833\n"
     ]
    }
   ],
   "source": [
    "history = model.fit(\n",
    "    x=x_train,\n",
    "    y=y_train,\n",
    "    validation_split=0.2,\n",
    "    epochs=10\n",
    ")"
   ]
  },
  {
   "cell_type": "markdown",
   "id": "1758755f",
   "metadata": {
    "papermill": {
     "duration": 0.157992,
     "end_time": "2022-03-01T21:14:46.461600",
     "exception": false,
     "start_time": "2022-03-01T21:14:46.303608",
     "status": "completed"
    },
    "tags": []
   },
   "source": [
    "## Evaluating the Model"
   ]
  },
  {
   "cell_type": "code",
   "execution_count": 13,
   "id": "c6126a21",
   "metadata": {
    "execution": {
     "iopub.execute_input": "2022-03-01T21:14:46.856856Z",
     "iopub.status.busy": "2022-03-01T21:14:46.856063Z",
     "iopub.status.idle": "2022-03-01T21:14:47.384793Z",
     "shell.execute_reply": "2022-03-01T21:14:47.385792Z",
     "shell.execute_reply.started": "2022-03-01T20:46:09.794756Z"
    },
    "papermill": {
     "duration": 0.766128,
     "end_time": "2022-03-01T21:14:47.386057",
     "exception": false,
     "start_time": "2022-03-01T21:14:46.619929",
     "status": "completed"
    },
    "tags": []
   },
   "outputs": [
    {
     "data": {
      "image/png": "[encoded data removed]",
      "text/plain": [
       "<Figure size 432x288 with 1 Axes>"
      ]
     },
     "metadata": {
      "needs_background": "light"
     },
     "output_type": "display_data"
    },
    {
     "data": {
      "image/png": "[encoded data removed]",
      "text/plain": [
       "<Figure size 432x288 with 1 Axes>"
      ]
     },
     "metadata": {
      "needs_background": "light"
     },
     "output_type": "display_data"
    }
   ],
   "source": [
    "history_frame = pd.DataFrame(history.history)\n",
    "history_frame.loc[:, ['loss', 'val_loss']].plot()\n",
    "history_frame.loc[:, ['accuracy', 'val_accuracy']].plot();"
   ]
  },
  {
   "cell_type": "markdown",
   "id": "ff4bf547",
   "metadata": {
    "papermill": {
     "duration": 0.250196,
     "end_time": "2022-03-01T21:14:47.907606",
     "exception": false,
     "start_time": "2022-03-01T21:14:47.657410",
     "status": "completed"
    },
    "tags": []
   },
   "source": [
    "## Predicting the Results"
   ]
  },
  {
   "cell_type": "code",
   "execution_count": 14,
   "id": "e23ea206",
   "metadata": {
    "execution": {
     "iopub.execute_input": "2022-03-01T21:14:48.234488Z",
     "iopub.status.busy": "2022-03-01T21:14:48.233502Z",
     "iopub.status.idle": "2022-03-01T21:14:49.776611Z",
     "shell.execute_reply": "2022-03-01T21:14:49.776014Z",
     "shell.execute_reply.started": "2022-03-01T20:56:54.612982Z"
    },
    "papermill": {
     "duration": 1.708698,
     "end_time": "2022-03-01T21:14:49.776754",
     "exception": false,
     "start_time": "2022-03-01T21:14:48.068056",
     "status": "completed"
    },
    "tags": []
   },
   "outputs": [],
   "source": [
    "preds = model.predict(test_df)\n",
    "preds_classes=np.argmax(preds,axis=1)"
   ]
  },
  {
   "cell_type": "code",
   "execution_count": 15,
   "id": "eef83654",
   "metadata": {
    "execution": {
     "iopub.execute_input": "2022-03-01T21:14:50.102751Z",
     "iopub.status.busy": "2022-03-01T21:14:50.102210Z",
     "iopub.status.idle": "2022-03-01T21:14:50.161569Z",
     "shell.execute_reply": "2022-03-01T21:14:50.161159Z",
     "shell.execute_reply.started": "2022-03-01T21:00:33.264829Z"
    },
    "papermill": {
     "duration": 0.223995,
     "end_time": "2022-03-01T21:14:50.161693",
     "exception": false,
     "start_time": "2022-03-01T21:14:49.937698",
     "status": "completed"
    },
    "tags": []
   },
   "outputs": [
    {
     "data": {
      "text/html": [
       "<div>\n",
       "<style scoped>\n",
       "    .dataframe tbody tr th:only-of-type {\n",
       "        vertical-align: middle;\n",
       "    }\n",
       "\n",
       "    .dataframe tbody tr th {\n",
       "        vertical-align: top;\n",
       "    }\n",
       "\n",
       "    .dataframe thead th {\n",
       "        text-align: right;\n",
       "    }\n",
       "</style>\n",
       "<table border=\"1\" class=\"dataframe\">\n",
       "  <thead>\n",
       "    <tr style=\"text-align: right;\">\n",
       "      <th></th>\n",
       "      <th>ImageId</th>\n",
       "      <th>Label</th>\n",
       "    </tr>\n",
       "  </thead>\n",
       "  <tbody>\n",
       "    <tr>\n",
       "      <th>0</th>\n",
       "      <td>1</td>\n",
       "      <td>2</td>\n",
       "    </tr>\n",
       "    <tr>\n",
       "      <th>1</th>\n",
       "      <td>2</td>\n",
       "      <td>0</td>\n",
       "    </tr>\n",
       "    <tr>\n",
       "      <th>2</th>\n",
       "      <td>3</td>\n",
       "      <td>9</td>\n",
       "    </tr>\n",
       "    <tr>\n",
       "      <th>3</th>\n",
       "      <td>4</td>\n",
       "      <td>9</td>\n",
       "    </tr>\n",
       "    <tr>\n",
       "      <th>4</th>\n",
       "      <td>5</td>\n",
       "      <td>3</td>\n",
       "    </tr>\n",
       "  </tbody>\n",
       "</table>\n",
       "</div>"
      ],
      "text/plain": [
       "   ImageId  Label\n",
       "0        1      2\n",
       "1        2      0\n",
       "2        3      9\n",
       "3        4      9\n",
       "4        5      3"
      ]
     },
     "execution_count": 15,
     "metadata": {},
     "output_type": "execute_result"
    }
   ],
   "source": [
    "sub = pd.read_csv('/kaggle/input/digit-recognizer/sample_submission.csv')\n",
    "sub['Label']=preds_classes\n",
    "sub.to_csv('submission.csv', index=False)\n",
    "sub.head()"
   ]
  },
  {
   "cell_type": "code",
   "execution_count": null,
   "id": "b1b1db77",
   "metadata": {
    "papermill": {
     "duration": 0.161166,
     "end_time": "2022-03-01T21:14:50.489502",
     "exception": false,
     "start_time": "2022-03-01T21:14:50.328336",
     "status": "completed"
    },
    "tags": []
   },
   "outputs": [],
   "source": []
  }
 ],
 "metadata": {
  "kernelspec": {
   "display_name": "Python 3",
   "language": "python",
   "name": "python3"
  },
  "language_info": {
   "codemirror_mode": {
    "name": "ipython",
    "version": 3
   },
   "file_extension": ".py",
   "mimetype": "text/x-python",
   "name": "python",
   "nbconvert_exporter": "python",
   "pygments_lexer": "ipython3",
   "version": "3.7.12"
  },
  "papermill": {
   "default_parameters": {},
   "duration": 63.569052,
   "end_time": "2022-03-01T21:14:53.719943",
   "environment_variables": {},
   "exception": null,
   "input_path": "__notebook__.ipynb",
   "output_path": "__notebook__.ipynb",
   "parameters": {},
   "start_time": "2022-03-01T21:13:50.150891",
   "version": "2.3.3"
  }
 },
 "nbformat": 4,
 "nbformat_minor": 5
}
